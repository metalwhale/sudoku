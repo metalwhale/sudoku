{
  "nbformat": 4,
  "nbformat_minor": 0,
  "metadata": {
    "colab": {
      "name": "digits.ipynb",
      "provenance": [],
      "collapsed_sections": []
    },
    "kernelspec": {
      "name": "python3",
      "display_name": "Python 3"
    },
    "language_info": {
      "name": "python"
    },
    "accelerator": "GPU"
  },
  "cells": [
    {
      "cell_type": "markdown",
      "metadata": {
        "id": "LWu_-9w6cW5g"
      },
      "source": [
        "## Setup"
      ]
    },
    {
      "cell_type": "code",
      "metadata": {
        "id": "Ojs6sJbSrZNR",
        "colab": {
          "base_uri": "https://localhost:8080/",
          "height": 1000
        },
        "outputId": "8010afdd-df8b-409b-eda6-5f24c50cb8fb"
      },
      "source": [
        "!pip install Pillow livelossplot tf2onnx -U"
      ],
      "execution_count": 1,
      "outputs": [
        {
          "output_type": "stream",
          "name": "stdout",
          "text": [
            "Requirement already satisfied: Pillow in /usr/local/lib/python3.7/dist-packages (7.1.2)\n",
            "Collecting Pillow\n",
            "  Downloading Pillow-8.4.0-cp37-cp37m-manylinux_2_17_x86_64.manylinux2014_x86_64.whl (3.1 MB)\n",
            "\u001b[K     |████████████████████████████████| 3.1 MB 5.3 MB/s \n",
            "\u001b[?25hCollecting livelossplot\n",
            "  Downloading livelossplot-0.5.4-py3-none-any.whl (22 kB)\n",
            "Collecting tf2onnx\n",
            "  Downloading tf2onnx-1.9.3-py3-none-any.whl (435 kB)\n",
            "\u001b[K     |████████████████████████████████| 435 kB 37.8 MB/s \n",
            "\u001b[?25hRequirement already satisfied: matplotlib in /usr/local/lib/python3.7/dist-packages (from livelossplot) (3.2.2)\n",
            "Requirement already satisfied: ipython in /usr/local/lib/python3.7/dist-packages (from livelossplot) (5.5.0)\n",
            "Requirement already satisfied: bokeh in /usr/local/lib/python3.7/dist-packages (from livelossplot) (2.3.3)\n",
            "Collecting flatbuffers~=1.12\n",
            "  Downloading flatbuffers-1.12-py2.py3-none-any.whl (15 kB)\n",
            "Collecting onnx>=1.4.1\n",
            "  Downloading onnx-1.10.2-cp37-cp37m-manylinux_2_12_x86_64.manylinux2010_x86_64.whl (12.7 MB)\n",
            "\u001b[K     |████████████████████████████████| 12.7 MB 1.2 MB/s \n",
            "\u001b[?25hRequirement already satisfied: six in /usr/local/lib/python3.7/dist-packages (from tf2onnx) (1.15.0)\n",
            "Requirement already satisfied: requests in /usr/local/lib/python3.7/dist-packages (from tf2onnx) (2.23.0)\n",
            "Requirement already satisfied: numpy>=1.14.1 in /usr/local/lib/python3.7/dist-packages (from tf2onnx) (1.19.5)\n",
            "Requirement already satisfied: typing-extensions>=3.6.2.1 in /usr/local/lib/python3.7/dist-packages (from onnx>=1.4.1->tf2onnx) (3.10.0.2)\n",
            "Requirement already satisfied: protobuf in /usr/local/lib/python3.7/dist-packages (from onnx>=1.4.1->tf2onnx) (3.17.3)\n",
            "Requirement already satisfied: tornado>=5.1 in /usr/local/lib/python3.7/dist-packages (from bokeh->livelossplot) (5.1.1)\n",
            "Requirement already satisfied: Jinja2>=2.9 in /usr/local/lib/python3.7/dist-packages (from bokeh->livelossplot) (2.11.3)\n",
            "Requirement already satisfied: PyYAML>=3.10 in /usr/local/lib/python3.7/dist-packages (from bokeh->livelossplot) (3.13)\n",
            "Requirement already satisfied: packaging>=16.8 in /usr/local/lib/python3.7/dist-packages (from bokeh->livelossplot) (21.3)\n",
            "Requirement already satisfied: python-dateutil>=2.1 in /usr/local/lib/python3.7/dist-packages (from bokeh->livelossplot) (2.8.2)\n",
            "Requirement already satisfied: MarkupSafe>=0.23 in /usr/local/lib/python3.7/dist-packages (from Jinja2>=2.9->bokeh->livelossplot) (2.0.1)\n",
            "Requirement already satisfied: pyparsing!=3.0.5,>=2.0.2 in /usr/local/lib/python3.7/dist-packages (from packaging>=16.8->bokeh->livelossplot) (3.0.6)\n",
            "Requirement already satisfied: prompt-toolkit<2.0.0,>=1.0.4 in /usr/local/lib/python3.7/dist-packages (from ipython->livelossplot) (1.0.18)\n",
            "Requirement already satisfied: pexpect in /usr/local/lib/python3.7/dist-packages (from ipython->livelossplot) (4.8.0)\n",
            "Requirement already satisfied: traitlets>=4.2 in /usr/local/lib/python3.7/dist-packages (from ipython->livelossplot) (5.1.1)\n",
            "Requirement already satisfied: decorator in /usr/local/lib/python3.7/dist-packages (from ipython->livelossplot) (4.4.2)\n",
            "Requirement already satisfied: pickleshare in /usr/local/lib/python3.7/dist-packages (from ipython->livelossplot) (0.7.5)\n",
            "Requirement already satisfied: setuptools>=18.5 in /usr/local/lib/python3.7/dist-packages (from ipython->livelossplot) (57.4.0)\n",
            "Requirement already satisfied: simplegeneric>0.8 in /usr/local/lib/python3.7/dist-packages (from ipython->livelossplot) (0.8.1)\n",
            "Requirement already satisfied: pygments in /usr/local/lib/python3.7/dist-packages (from ipython->livelossplot) (2.6.1)\n",
            "Requirement already satisfied: wcwidth in /usr/local/lib/python3.7/dist-packages (from prompt-toolkit<2.0.0,>=1.0.4->ipython->livelossplot) (0.2.5)\n",
            "Requirement already satisfied: kiwisolver>=1.0.1 in /usr/local/lib/python3.7/dist-packages (from matplotlib->livelossplot) (1.3.2)\n",
            "Requirement already satisfied: cycler>=0.10 in /usr/local/lib/python3.7/dist-packages (from matplotlib->livelossplot) (0.11.0)\n",
            "Requirement already satisfied: ptyprocess>=0.5 in /usr/local/lib/python3.7/dist-packages (from pexpect->ipython->livelossplot) (0.7.0)\n",
            "Requirement already satisfied: certifi>=2017.4.17 in /usr/local/lib/python3.7/dist-packages (from requests->tf2onnx) (2021.10.8)\n",
            "Requirement already satisfied: idna<3,>=2.5 in /usr/local/lib/python3.7/dist-packages (from requests->tf2onnx) (2.10)\n",
            "Requirement already satisfied: urllib3!=1.25.0,!=1.25.1,<1.26,>=1.21.1 in /usr/local/lib/python3.7/dist-packages (from requests->tf2onnx) (1.24.3)\n",
            "Requirement already satisfied: chardet<4,>=3.0.2 in /usr/local/lib/python3.7/dist-packages (from requests->tf2onnx) (3.0.4)\n",
            "Installing collected packages: Pillow, onnx, flatbuffers, tf2onnx, livelossplot\n",
            "  Attempting uninstall: Pillow\n",
            "    Found existing installation: Pillow 7.1.2\n",
            "    Uninstalling Pillow-7.1.2:\n",
            "      Successfully uninstalled Pillow-7.1.2\n",
            "  Attempting uninstall: flatbuffers\n",
            "    Found existing installation: flatbuffers 2.0\n",
            "    Uninstalling flatbuffers-2.0:\n",
            "      Successfully uninstalled flatbuffers-2.0\n",
            "\u001b[31mERROR: pip's dependency resolver does not currently take into account all the packages that are installed. This behaviour is the source of the following dependency conflicts.\n",
            "albumentations 0.1.12 requires imgaug<0.2.7,>=0.2.5, but you have imgaug 0.2.9 which is incompatible.\u001b[0m\n",
            "Successfully installed Pillow-8.4.0 flatbuffers-1.12 livelossplot-0.5.4 onnx-1.10.2 tf2onnx-1.9.3\n"
          ]
        },
        {
          "output_type": "display_data",
          "data": {
            "application/vnd.colab-display-data+json": {
              "pip_warning": {
                "packages": [
                  "PIL"
                ]
              }
            }
          },
          "metadata": {}
        }
      ]
    },
    {
      "cell_type": "code",
      "metadata": {
        "id": "-8QXuUQP0-EW"
      },
      "source": [
        "import os\n",
        "import zipfile\n",
        "from urllib import request\n",
        "from typing import List\n",
        "\n",
        "FONT_DIR = \"fonts\"\n",
        "FONT_NAMES = [\"roboto\", \"montserrat\", \"roboto-condensed\", \"roboto-mono\", \"raleway\", \"merriweather\", \"playfair-display\", \"roboto-slab\"]\n",
        "\n",
        "def download_fonts(fonts_dir: str, fonts: List[str]):\n",
        "    os.makedirs(\"fonts\")\n",
        "    for font in fonts:\n",
        "        request.urlretrieve(\n",
        "            f\"https://google-webfonts-helper.herokuapp.com/api/fonts/{font}?download=zip&subsets=latin\",\n",
        "            f\"{fonts_dir}/{font}.zip\"\n",
        "        )\n",
        "        os.makedirs(f\"{fonts_dir}/{font}\")\n",
        "        with zipfile.ZipFile(f\"{fonts_dir}/{font}.zip\",\"r\") as zip_file:\n",
        "            zip_file.extractall(f\"{fonts_dir}/{font}\")\n",
        "\n",
        "download_fonts(FONT_DIR, FONT_NAMES)"
      ],
      "execution_count": 1,
      "outputs": []
    },
    {
      "cell_type": "markdown",
      "metadata": {
        "id": "kJ6v962EcYtF"
      },
      "source": [
        "## Dataset"
      ]
    },
    {
      "cell_type": "code",
      "metadata": {
        "id": "NY5PQ-r4cbhl"
      },
      "source": [
        "import glob\n",
        "\n",
        "import numpy as np\n",
        "import tensorflow as tf\n",
        "from PIL import Image, ImageDraw, ImageFont\n",
        "from tensorflow.keras import utils\n",
        "\n",
        "LABELS_NUM = 10\n",
        "IMAGE_WIDTH = 20\n",
        "IMAGE_SIZE = (IMAGE_WIDTH, IMAGE_WIDTH)\n",
        "TRAIN_LEN = 10000\n",
        "VAL_LEN = 1000\n",
        "BATCH_SIZE = 20\n",
        "FONTS = [\n",
        "    ImageFont.truetype(font_file, int(IMAGE_WIDTH * 0.9))\n",
        "    for font_name in FONT_NAMES\n",
        "    for font_file in glob.glob(f\"{FONT_DIR}/{font_name}/*.ttf\") if \"regular\" in font_file\n",
        "]\n",
        "\n",
        "def draw_image(list_len: int, augment: bool):\n",
        "    i = 0\n",
        "    while i < list_len:\n",
        "        image = Image.new(\"RGB\", IMAGE_SIZE, color=(\n",
        "            tf.random.uniform([], minval=240, maxval=256, dtype=tf.int32),\n",
        "            tf.random.uniform([], minval=240, maxval=256, dtype=tf.int32),\n",
        "            tf.random.uniform([], minval=240, maxval=256, dtype=tf.int32),\n",
        "        ) if augment else (255, 255, 255))\n",
        "        width, height = IMAGE_SIZE\n",
        "        digit = int(tf.random.uniform([], minval=0, maxval=LABELS_NUM, dtype=tf.int32)) if augment else i % LABELS_NUM\n",
        "        ImageDraw.Draw(image).text(\n",
        "            (width / 2, height / 2),\n",
        "            \"\" if digit == 0 else str(digit),\n",
        "            fill=(\n",
        "                tf.random.uniform([], minval=0, maxval=8, dtype=tf.int32),\n",
        "                tf.random.uniform([], minval=0, maxval=8, dtype=tf.int32),\n",
        "                tf.random.uniform([], minval=0, maxval=8, dtype=tf.int32),\n",
        "            ) if augment else (0, 0, 0),\n",
        "            font=FONTS[tf.random.uniform([], minval=0, maxval=len(FONTS), dtype=tf.int32) if augment else i % len(FONTS)],\n",
        "            anchor=\"mm\"\n",
        "        )\n",
        "        if augment:\n",
        "            image = image.transform(IMAGE_SIZE, Image.AFFINE, data=(\n",
        "                tf.random.uniform([], minval=0.9, maxval=1.1),\n",
        "                tf.random.uniform([], minval=-0.1, maxval=0.1),\n",
        "                tf.random.uniform([], minval=-width * 0.1, maxval=width * 0.1),\n",
        "                tf.random.uniform([], minval=-0.1, maxval=0.1),\n",
        "                tf.random.uniform([], minval=0.9, maxval=1.1),\n",
        "                tf.random.uniform([], minval=-height * 0.1, maxval=height * 0.1),\n",
        "            ))\n",
        "            image = image.rotate(tf.random.uniform([], minval=-15, maxval=15))\n",
        "        yield np.array(image.convert(\"L\"))[..., np.newaxis] / 255, utils.to_categorical(digit, num_classes=LABELS_NUM)\n",
        "        i += 1\n",
        "\n",
        "def generate_dataset(list_len: int, augment: bool):\n",
        "    return tf.data.Dataset.from_generator(draw_image, output_signature=(\n",
        "        tf.TensorSpec(shape=IMAGE_SIZE + (1,), dtype=tf.float32),\n",
        "        tf.TensorSpec(shape=LABELS_NUM, dtype=tf.int32),\n",
        "    ), args=[list_len, augment]).batch(BATCH_SIZE).prefetch(tf.data.experimental.AUTOTUNE)\n",
        "\n",
        "train_dataset = generate_dataset(TRAIN_LEN, True)\n",
        "val_dataset = generate_dataset(VAL_LEN, True)"
      ],
      "execution_count": 2,
      "outputs": []
    },
    {
      "cell_type": "markdown",
      "metadata": {
        "id": "gTuP10Pu6TQS"
      },
      "source": [
        "## Model"
      ]
    },
    {
      "cell_type": "code",
      "metadata": {
        "id": "1Y_B5LBs6SyT"
      },
      "source": [
        "from tensorflow.keras import Input, Sequential, layers\n",
        "\n",
        "model = Sequential(layers=[\n",
        "    Input(shape=IMAGE_SIZE + (1,)),\n",
        "    layers.Conv2D(16, kernel_size=(3, 3), activation=\"relu\"),\n",
        "    layers.MaxPooling2D(pool_size=(2, 2)),\n",
        "    layers.Conv2D(32, kernel_size=(3, 3), activation=\"relu\"),\n",
        "    layers.MaxPooling2D(pool_size=(2, 2)),\n",
        "    layers.Flatten(),\n",
        "    layers.Dropout(0.5),\n",
        "    layers.Dense(LABELS_NUM, activation=\"softmax\"),\n",
        "])\n",
        "model.compile(loss=\"categorical_crossentropy\", optimizer=\"adam\", metrics=[\"accuracy\"])"
      ],
      "execution_count": 3,
      "outputs": []
    },
    {
      "cell_type": "markdown",
      "metadata": {
        "id": "wpz_JL5O7GlT"
      },
      "source": [
        "## Training"
      ]
    },
    {
      "cell_type": "code",
      "metadata": {
        "id": "FS1_6jic7IL6",
        "colab": {
          "base_uri": "https://localhost:8080/",
          "height": 724
        },
        "outputId": "b5a3dd3e-755d-4930-de6b-595108ed8243"
      },
      "source": [
        "from livelossplot import PlotLossesKerasTF\n",
        "from tensorflow.keras import callbacks\n",
        "\n",
        "EPOCHS_NUM = 10000\n",
        "CHECKPOINT_PATH = \"saved\"\n",
        "\n",
        "model.fit(\n",
        "    train_dataset,\n",
        "    epochs=EPOCHS_NUM,\n",
        "    callbacks=[\n",
        "        callbacks.ModelCheckpoint(CHECKPOINT_PATH, save_best_only=True),\n",
        "        callbacks.EarlyStopping(patience=5, restore_best_weights=True),\n",
        "        PlotLossesKerasTF(),\n",
        "    ],\n",
        "    validation_data=val_dataset,\n",
        ")"
      ],
      "execution_count": 4,
      "outputs": [
        {
          "output_type": "display_data",
          "data": {
            "image/png": "[encoded data removed]",
            "text/plain": [
              "<Figure size 864x576 with 2 Axes>"
            ]
          },
          "metadata": {
            "needs_background": "light"
          }
        },
        {
          "output_type": "stream",
          "name": "stdout",
          "text": [
            "accuracy\n",
            "\ttraining         \t (min:    0.389, max:    0.936, cur:    0.933)\n",
            "\tvalidation       \t (min:    0.719, max:    0.985, cur:    0.977)\n",
            "Loss\n",
            "\ttraining         \t (min:    0.193, max:    1.697, cur:    0.197)\n",
            "\tvalidation       \t (min:    0.067, max:    0.978, cur:    0.079)\n",
            "\b\b\b\b\b\b\b\b\b\b\b\b\b\b\b\b\b\b\b\b\b\b\b\b\b\b\b\b\b\b\b\b\b\b\b\b\b\b\b\b\b\b\b\b\b\b\b\b\b\b\b\b\b\b\b\b\b\b\b\b\b\b\b\b\b\b\b\b\b\b\b\b\b\b\b\b\b\b\b\b\b\b\b\b\r500/500 [==============================] - 111s 222ms/step - loss: 0.1972 - accuracy: 0.9326 - val_loss: 0.0788 - val_accuracy: 0.9770\n"
          ]
        },
        {
          "output_type": "execute_result",
          "data": {
            "text/plain": [
              "<keras.callbacks.History at 0x7f0800037910>"
            ]
          },
          "metadata": {},
          "execution_count": 4
        }
      ]
    },
    {
      "cell_type": "code",
      "metadata": {
        "colab": {
          "base_uri": "https://localhost:8080/",
          "height": 419
        },
        "id": "SSAOxe3Mlhqv",
        "outputId": "a53d2438-b810-4505-d449-3ded703f8eaf"
      },
      "source": [
        "from google import colab\n",
        "\n",
        "MODEL_FILE = \"model.onnx\"\n",
        "\n",
        "!python -m tf2onnx.convert --saved-model {CHECKPOINT_PATH} --output {MODEL_FILE}\n",
        "colab.files.download(MODEL_FILE)"
      ],
      "execution_count": 5,
      "outputs": [
        {
          "output_type": "stream",
          "name": "stdout",
          "text": [
            "/usr/lib/python3.7/runpy.py:125: RuntimeWarning: 'tf2onnx.convert' found in sys.modules after import of package 'tf2onnx', but prior to execution of 'tf2onnx.convert'; this may result in unpredictable behaviour\n",
            "  warn(RuntimeWarning(msg))\n",
            "2021-12-12 02:50:26,638 - WARNING - '--tag' not specified for saved_model. Using --tag serve\n",
            "2021-12-12 02:50:26,959 - INFO - Signatures found in model: [serving_default].\n",
            "2021-12-12 02:50:26,959 - WARNING - '--signature_def' not specified, using first signature: serving_default\n",
            "2021-12-12 02:50:26,959 - INFO - Output names: ['dense']\n",
            "WARNING:tensorflow:From /usr/local/lib/python3.7/dist-packages/tf2onnx/tf_loader.py:706: extract_sub_graph (from tensorflow.python.framework.graph_util_impl) is deprecated and will be removed in a future version.\n",
            "Instructions for updating:\n",
            "Use `tf.compat.v1.graph_util.extract_sub_graph`\n",
            "2021-12-12 02:50:27,037 - WARNING - From /usr/local/lib/python3.7/dist-packages/tf2onnx/tf_loader.py:706: extract_sub_graph (from tensorflow.python.framework.graph_util_impl) is deprecated and will be removed in a future version.\n",
            "Instructions for updating:\n",
            "Use `tf.compat.v1.graph_util.extract_sub_graph`\n",
            "2021-12-12 02:50:27,061 - INFO - Using tensorflow=2.7.0, onnx=1.10.2, tf2onnx=1.9.3/1190aa\n",
            "2021-12-12 02:50:27,061 - INFO - Using opset <onnx, 9>\n",
            "2021-12-12 02:50:27,075 - INFO - Computed 0 values for constant folding\n",
            "2021-12-12 02:50:27,097 - INFO - Optimizing ONNX model\n",
            "2021-12-12 02:50:27,153 - INFO - After optimization: Cast -1 (1->0), Const +1 (7->8), Identity -6 (6->0), Reshape +1 (1->2), Transpose -7 (8->1)\n",
            "2021-12-12 02:50:27,155 - INFO - \n",
            "2021-12-12 02:50:27,155 - INFO - Successfully converted TensorFlow model saved to ONNX\n",
            "2021-12-12 02:50:27,155 - INFO - Model inputs: ['input_1']\n",
            "2021-12-12 02:50:27,155 - INFO - Model outputs: ['dense']\n",
            "2021-12-12 02:50:27,155 - INFO - ONNX model is saved at model.onnx\n"
          ]
        },
        {
          "output_type": "display_data",
          "data": {
            "application/javascript": [
              "\n",
              "    async function download(id, filename, size) {\n",
              "      if (!google.colab.kernel.accessAllowed) {\n",
              "        return;\n",
              "      }\n",
              "      const div = document.createElement('div');\n",
              "      const label = document.createElement('label');\n",
              "      label.textContent = `Downloading \"${filename}\": `;\n",
              "      div.appendChild(label);\n",
              "      const progress = document.createElement('progress');\n",
              "      progress.max = size;\n",
              "      div.appendChild(progress);\n",
              "      document.body.appendChild(div);\n",
              "\n",
              "      const buffers = [];\n",
              "      let downloaded = 0;\n",
              "\n",
              "      const channel = await google.colab.kernel.comms.open(id);\n",
              "      // Send a message to notify the kernel that we're ready.\n",
              "      channel.send({})\n",
              "\n",
              "      for await (const message of channel.messages) {\n",
              "        // Send a message to notify the kernel that we're ready.\n",
              "        channel.send({})\n",
              "        if (message.buffers) {\n",
              "          for (const buffer of message.buffers) {\n",
              "            buffers.push(buffer);\n",
              "            downloaded += buffer.byteLength;\n",
              "            progress.value = downloaded;\n",
              "          }\n",
              "        }\n",
              "      }\n",
              "      const blob = new Blob(buffers, {type: 'application/binary'});\n",
              "      const a = document.createElement('a');\n",
              "      a.href = window.URL.createObjectURL(blob);\n",
              "      a.download = filename;\n",
              "      div.appendChild(a);\n",
              "      a.click();\n",
              "      div.remove();\n",
              "    }\n",
              "  "
            ],
            "text/plain": [
              "<IPython.core.display.Javascript object>"
            ]
          },
          "metadata": {}
        },
        {
          "output_type": "display_data",
          "data": {
            "application/javascript": [
              "download(\"download_ebf95984-4fd2-449a-b7e1-5a40cde2cb85\", \"model.onnx\", 34189)"
            ],
            "text/plain": [
              "<IPython.core.display.Javascript object>"
            ]
          },
          "metadata": {}
        }
      ]
    }
  ]
}